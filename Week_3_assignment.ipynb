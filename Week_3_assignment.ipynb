{
  "nbformat": 4,
  "nbformat_minor": 0,
  "metadata": {
    "colab": {
      "provenance": []
    },
    "kernelspec": {
      "name": "python3",
      "display_name": "Python 3"
    },
    "language_info": {
      "name": "python"
    }
  },
  "cells": [
    {
      "cell_type": "code",
      "execution_count": 1,
      "metadata": {
        "id": "-eQv0RuH3743"
      },
      "outputs": [],
      "source": [
        "import pandas as pd\n",
        "from sklearn.model_selection import train_test_split\n",
        "from sklearn.ensemble import RandomForestClassifier\n",
        "from sklearn.metrics import roc_auc_score\n",
        "from sklearn.preprocessing import StandardScaler, OneHotEncoder\n",
        "from sklearn.compose import ColumnTransformer\n",
        "from sklearn.pipeline import Pipeline\n",
        "from sklearn.impute import SimpleImputer"
      ]
    },
    {
      "cell_type": "code",
      "source": [
        "training_features = pd.read_csv('/content/training_set_features.csv')\n",
        "training_labels = pd.read_csv('/content/training_set_labels.csv')\n",
        "test_features = pd.read_csv('/content/test_set_features.csv')\n",
        "submission_format = pd.read_csv('/content/submission_format.csv')"
      ],
      "metadata": {
        "id": "EVzrmKai39dS"
      },
      "execution_count": 2,
      "outputs": []
    },
    {
      "cell_type": "code",
      "source": [
        "training_data = pd.merge(training_features, training_labels, on='respondent_id')"
      ],
      "metadata": {
        "id": "Lty2YdY14Y-y"
      },
      "execution_count": 4,
      "outputs": []
    },
    {
      "cell_type": "code",
      "source": [
        "X = training_data.drop(columns=['respondent_id', 'xyz_vaccine', 'seasonal_vaccine'])\n",
        "y_xyz = training_data['xyz_vaccine']\n",
        "y_seasonal = training_data['seasonal_vaccine']\n",
        "X_test = test_features.drop(columns=['respondent_id'])"
      ],
      "metadata": {
        "id": "rU-XOUhf4cOm"
      },
      "execution_count": 6,
      "outputs": []
    },
    {
      "cell_type": "code",
      "source": [
        "numeric_features = X.select_dtypes(include=['int64', 'float64']).columns\n",
        "categorical_features = X.select_dtypes(include=['object']).columns"
      ],
      "metadata": {
        "id": "96hEcsJC4ffZ"
      },
      "execution_count": 7,
      "outputs": []
    },
    {
      "cell_type": "code",
      "source": [
        "numeric_transformer = Pipeline(steps=[\n",
        "    ('imputer', SimpleImputer(strategy='median')),\n",
        "    ('scaler', StandardScaler())])"
      ],
      "metadata": {
        "id": "EEJ3nJwP4kVj"
      },
      "execution_count": 8,
      "outputs": []
    },
    {
      "cell_type": "code",
      "source": [
        "categorical_transformer = Pipeline(steps=[\n",
        "    ('imputer', SimpleImputer(strategy='most_frequent')),\n",
        "    ('onehot', OneHotEncoder(handle_unknown='ignore'))])"
      ],
      "metadata": {
        "id": "0lcxVgaQ4lKr"
      },
      "execution_count": 9,
      "outputs": []
    },
    {
      "cell_type": "code",
      "source": [
        "preprocessor = ColumnTransformer(\n",
        "    transformers=[\n",
        "        ('num', numeric_transformer, numeric_features),\n",
        "        ('cat', categorical_transformer, categorical_features)])"
      ],
      "metadata": {
        "id": "Hj9ians64ogi"
      },
      "execution_count": 10,
      "outputs": []
    },
    {
      "cell_type": "code",
      "source": [
        "model = Pipeline(steps=[('preprocessor', preprocessor),\n",
        "                        ('classifier', RandomForestClassifier(random_state=42))])"
      ],
      "metadata": {
        "id": "cGeCP0BO4r_A"
      },
      "execution_count": 11,
      "outputs": []
    },
    {
      "cell_type": "code",
      "source": [
        "X_train, X_val, y_train_xyz, y_val_xyz = train_test_split(X, y_xyz, test_size=0.2, random_state=42)\n",
        "_, _, y_train_seasonal, y_val_seasonal = train_test_split(X, y_seasonal, test_size=0.2, random_state=42)"
      ],
      "metadata": {
        "id": "qYiQp1x94ufj"
      },
      "execution_count": 12,
      "outputs": []
    },
    {
      "cell_type": "code",
      "source": [
        "model.fit(X_train, y_train_xyz)\n",
        "y_pred_val_xyz = model.predict_proba(X_val)[:, 1]\n",
        "roc_auc_xyz = roc_auc_score(y_val_xyz, y_pred_val_xyz)\n",
        "print(f'ROC AUC for xyz vaccine: {roc_auc_xyz}')"
      ],
      "metadata": {
        "colab": {
          "base_uri": "https://localhost:8080/"
        },
        "id": "GAe4TBzw4xKc",
        "outputId": "fe0172e5-d4f8-4e1f-fe17-5ebee49c19cc"
      },
      "execution_count": 13,
      "outputs": [
        {
          "output_type": "stream",
          "name": "stdout",
          "text": [
            "ROC AUC for xyz vaccine: 0.8294325525888947\n"
          ]
        }
      ]
    },
    {
      "cell_type": "code",
      "source": [
        "model.fit(X_train, y_train_seasonal)\n",
        "y_pred_val_seasonal = model.predict_proba(X_val)[:, 1]\n",
        "roc_auc_seasonal = roc_auc_score(y_val_seasonal, y_pred_val_seasonal)\n",
        "print(f'ROC AUC for seasonal vaccine: {roc_auc_seasonal}')"
      ],
      "metadata": {
        "colab": {
          "base_uri": "https://localhost:8080/"
        },
        "id": "Mch_ZfRQ4z-h",
        "outputId": "ccb9f480-85f0-40f8-baad-ba9c09ac1a54"
      },
      "execution_count": 14,
      "outputs": [
        {
          "output_type": "stream",
          "name": "stdout",
          "text": [
            "ROC AUC for seasonal vaccine: 0.8518072872366175\n"
          ]
        }
      ]
    },
    {
      "cell_type": "code",
      "source": [
        "model.fit(X, y_xyz)\n",
        "y_test_pred_xyz = model.predict_proba(X_test)[:, 1]"
      ],
      "metadata": {
        "id": "GH0gzOTq42hO"
      },
      "execution_count": 15,
      "outputs": []
    },
    {
      "cell_type": "code",
      "source": [
        "model.fit(X, y_seasonal)\n",
        "y_test_pred_seasonal = model.predict_proba(X_test)[:, 1]"
      ],
      "metadata": {
        "id": "X4SzVJdQ47OX"
      },
      "execution_count": 16,
      "outputs": []
    },
    {
      "cell_type": "code",
      "source": [
        "submission = pd.DataFrame({\n",
        "    'respondent_id': test_features['respondent_id'],\n",
        "    'xyz_vaccine': y_test_pred_xyz,\n",
        "    'seasonal_vaccine': y_test_pred_seasonal\n",
        "})"
      ],
      "metadata": {
        "id": "_CQJbOc249kk"
      },
      "execution_count": 17,
      "outputs": []
    },
    {
      "cell_type": "code",
      "source": [
        "submission.to_csv('submission.csv', index=False)\n",
        "print(\"Submission file created successfully!\")"
      ],
      "metadata": {
        "colab": {
          "base_uri": "https://localhost:8080/"
        },
        "id": "jcOh2nNq4_94",
        "outputId": "40c46ddc-41b0-4df9-dbeb-f0cca9a7558d"
      },
      "execution_count": 18,
      "outputs": [
        {
          "output_type": "stream",
          "name": "stdout",
          "text": [
            "Submission file created successfully!\n"
          ]
        }
      ]
    },
    {
      "cell_type": "code",
      "source": [],
      "metadata": {
        "id": "ucKFnDwL5CiJ"
      },
      "execution_count": null,
      "outputs": []
    }
  ]
}